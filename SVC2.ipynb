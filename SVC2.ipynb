{
 "cells": [
  {
   "cell_type": "markdown",
   "metadata": {},
   "source": [
    "## Importing libraries"
   ]
  },
  {
   "cell_type": "code",
   "execution_count": 19,
   "metadata": {},
   "outputs": [],
   "source": [
    "from spacy.lang.en import English\n",
    "import csv as csv\n",
    "from spacy.lang.en.stop_words import STOP_WORDS\n",
    "from sklearn.model_selection import train_test_split as split\n",
    "from tqdm import tqdm\n",
    "from sklearn.feature_extraction.text import CountVectorizer\n",
    "from sklearn.svm import SVC\n",
    "import matplotlib.pyplot as plt\n",
    "import numpy as np"
   ]
  },
  {
   "cell_type": "markdown",
   "metadata": {},
   "source": [
    "## Reading and splitting"
   ]
  },
  {
   "cell_type": "code",
   "execution_count": 20,
   "metadata": {},
   "outputs": [],
   "source": [
    "nlp = English()\n",
    "all_labels = []\n",
    "all_tweets = []"
   ]
  },
  {
   "cell_type": "code",
   "execution_count": 21,
   "metadata": {},
   "outputs": [
    {
     "name": "stderr",
     "output_type": "stream",
     "text": [
      "Reading data: 13241it [00:00, 232918.19it/s]\n"
     ]
    }
   ],
   "source": [
    "with open(\"offenseval-training-v1.tsv\", encoding='utf8') as mf:\n",
    "    reader = csv.reader(mf, delimiter=\"\\t\")\n",
    "    for id,tweet,a,b,c in tqdm(reader,'Reading data'):\n",
    "        if id == \"id\":\n",
    "            continue\n",
    "        all_tweets.append(tweet.lower())\n",
    "        if a == \"OFF\":\n",
    "            all_labels.append(1)\n",
    "        else:\n",
    "            all_labels.append(0)"
   ]
  },
  {
   "cell_type": "code",
   "execution_count": 22,
   "metadata": {},
   "outputs": [
    {
     "name": "stdout",
     "output_type": "stream",
     "text": [
      "@user she should ask a few native americans what their take on this is.\n"
     ]
    }
   ],
   "source": [
    "print(all_tweets[0])\n",
    "#print(all_labels[3])"
   ]
  },
  {
   "cell_type": "code",
   "execution_count": 23,
   "metadata": {},
   "outputs": [],
   "source": [
    "tr_tweets,tst_tweets,tr_labels,tst_labels = split(all_tweets,all_labels,test_size=0.3)"
   ]
  },
  {
   "cell_type": "code",
   "execution_count": null,
   "metadata": {},
   "outputs": [],
   "source": []
  },
  {
   "cell_type": "markdown",
   "metadata": {},
   "source": [
    "### Preprocessing"
   ]
  },
  {
   "cell_type": "code",
   "execution_count": 24,
   "metadata": {},
   "outputs": [],
   "source": [
    "prep_tr_tweets = []\n",
    "prep_tst_tweets = []\n",
    "tr_vecs = []\n",
    "tst_vecs = []\n",
    "other_stopwords = ['.',',',':','#','-','\"','!','?','*','&','@','˝',')','(',';','´',' ','/','@user']"
   ]
  },
  {
   "cell_type": "code",
   "execution_count": 25,
   "metadata": {},
   "outputs": [
    {
     "name": "stderr",
     "output_type": "stream",
     "text": [
      "Token and Lemmatization: 9268it [00:01, 7262.90it/s]\n",
      "Token and Lemmatization: 3972it [00:00, 8398.88it/s]\n"
     ]
    }
   ],
   "source": [
    "for i, tweet in tqdm(enumerate(tr_tweets), 'Token and Lemmatization', position=0):\n",
    "    temp = nlp(tweet)\n",
    "    words = []\n",
    "    for j, token in enumerate(temp):\n",
    "        if not token.is_stop and token.text not in other_stopwords:\n",
    "            words.append((token.lemma_))\n",
    "    prep_tr_tweets.append(words)\n",
    "for i, tweet in tqdm(enumerate(tst_tweets), 'Token and Lemmatization', position=0):\n",
    "    temp = nlp(tweet)\n",
    "    asd = []\n",
    "    for j, token in enumerate(temp):\n",
    "        if not token.is_stop and token.text not in other_stopwords:\n",
    "            asd.append((token.lemma_))\n",
    "    prep_tst_tweets.append(asd)"
   ]
  },
  {
   "cell_type": "code",
   "execution_count": 26,
   "metadata": {},
   "outputs": [
    {
     "name": "stdout",
     "output_type": "stream",
     "text": [
      "['.@user', 'republican', 'hater', 'amaze', 'liberal', 'like', 'republican', 'money', '💰', 'colin', 'fire', '😂', '😂', 'boycottcolinjost', 'emmyawards', 'url']\n"
     ]
    }
   ],
   "source": [
    "print(prep_tr_tweets[7])"
   ]
  },
  {
   "cell_type": "markdown",
   "metadata": {},
   "source": [
    "## Vectorizing"
   ]
  },
  {
   "cell_type": "code",
   "execution_count": 27,
   "metadata": {},
   "outputs": [],
   "source": [
    "def loadGloveModel(gloveFile):\n",
    "    print(\"Loading Glove Model\")\n",
    "    f = open(gloveFile,'r', encoding='utf-8')\n",
    "    model = {}\n",
    "    for line in tqdm(f, 'Loading', position=0):\n",
    "        splitLine = line.split()\n",
    "        word = splitLine[0]\n",
    "        embedding = np.array([float(val) for val in splitLine[1:]])\n",
    "        model[word] = embedding\n",
    "    print(\"Done.\",len(model),\" words loaded!\")\n",
    "    return model"
   ]
  },
  {
   "cell_type": "code",
   "execution_count": 28,
   "metadata": {},
   "outputs": [
    {
     "name": "stdout",
     "output_type": "stream",
     "text": [
      "Loading Glove Model\n"
     ]
    },
    {
     "name": "stderr",
     "output_type": "stream",
     "text": [
      "Loading: 1193514it [00:11, 102190.57it/s]\n"
     ]
    },
    {
     "name": "stdout",
     "output_type": "stream",
     "text": [
      "Done. 1193514  words loaded!\n"
     ]
    }
   ],
   "source": [
    "model = loadGloveModel('glove.twitter.27B.25d.txt')"
   ]
  },
  {
   "cell_type": "code",
   "execution_count": 29,
   "metadata": {},
   "outputs": [],
   "source": [
    "from wordsegment import load, segment\n",
    "load()"
   ]
  },
  {
   "cell_type": "code",
   "execution_count": null,
   "metadata": {},
   "outputs": [],
   "source": [
    "  "
   ]
  },
  {
   "cell_type": "code",
   "execution_count": 30,
   "metadata": {
    "scrolled": true
   },
   "outputs": [
    {
     "name": "stderr",
     "output_type": "stream",
     "text": [
      "Vectorizing: 100%|███████████████████████████████████████████████████████████████| 9268/9268 [00:02<00:00, 3481.47it/s]\n",
      "Finalizing: 100%|████████████████████████████████████████████████████████████████| 9268/9268 [00:00<00:00, 9899.02it/s]\n"
     ]
    }
   ],
   "source": [
    "#vectors = [np.array([model[word] for word in tweet if word in model]).flatten() for tweet in tqdm(prep_tr_tweets,'Vectorizing')]\n",
    "vectors = []\n",
    "for tweet in tqdm(prep_tr_tweets,'Vectorizing', position=0):\n",
    "    weed = []\n",
    "    for word in tweet:\n",
    "        if word in model:\n",
    "            weed.append(model[word])\n",
    "        else:\n",
    "            temp = segment(word)\n",
    "            for newwords in temp:\n",
    "                if newwords in model:\n",
    "                    weed.append(model[newwords])\n",
    "    vectors.append(np.array([weed]).flatten())\n",
    "max_len = np.max([len(vector) for vector in vectors])\n",
    "\n",
    "vectors = [\n",
    "    np.array(vector.tolist()+[0 for _ in range(max_len-len(vector))]) for vector in tqdm(vectors,'Finalizing', position=0)\n",
    "    ]\n",
    "for i,vec in enumerate(vectors):\n",
    "    vectors[i] = vec[:max_len]\n",
    "tr_vecs.append(vectors)"
   ]
  },
  {
   "cell_type": "code",
   "execution_count": 31,
   "metadata": {},
   "outputs": [
    {
     "name": "stderr",
     "output_type": "stream",
     "text": [
      "Vectorizing: 100%|███████████████████████████████████████████████████████████████| 3972/3972 [00:01<00:00, 3645.73it/s]\n",
      "Finalizing: 100%|████████████████████████████████████████████████████████████████| 3972/3972 [00:00<00:00, 9988.68it/s]\n"
     ]
    }
   ],
   "source": [
    "#vectors2 = [np.array([model[word] for word in tweet if word in model]).flatten() for tweet in tqdm(prep_tst_tweets,'Vectorizing')]\n",
    "\n",
    "vectors2 = []\n",
    "for tweet in tqdm(prep_tst_tweets,'Vectorizing', position=0):\n",
    "    weed = []\n",
    "    for word in tweet:\n",
    "        if word in model:\n",
    "            weed.append(model[word])\n",
    "        else:\n",
    "            temp = segment(word)\n",
    "            for newwords in temp:\n",
    "                if newwords in model:\n",
    "                    weed.append(model[newwords])\n",
    "    vectors2.append(np.array([weed]).flatten())\n",
    "\n",
    "vectors2 = [\n",
    "    np.array(vector.tolist()+[0 for _ in range(max_len-len(vector))]) for vector in tqdm(vectors2,'Finalizing')\n",
    "    ]\n",
    "\n",
    "for i,vec in enumerate(vectors2):\n",
    "    vectors[i] = vec[:max_len]\n",
    "    \n",
    "tst_vecs.append(vectors2)"
   ]
  },
  {
   "cell_type": "code",
   "execution_count": null,
   "metadata": {},
   "outputs": [],
   "source": []
  },
  {
   "cell_type": "markdown",
   "metadata": {},
   "source": [
    "## Classifiers"
   ]
  },
  {
   "cell_type": "code",
   "execution_count": 33,
   "metadata": {},
   "outputs": [
    {
     "data": {
      "text/plain": [
       "SVC(C=10, break_ties=False, cache_size=200, class_weight=None, coef0=0.0,\n",
       "    decision_function_shape='ovr', degree=3, gamma='scale', kernel='rbf',\n",
       "    max_iter=-1, probability=False, random_state=None, shrinking=True,\n",
       "    tol=0.001, verbose=False)"
      ]
     },
     "execution_count": 33,
     "metadata": {},
     "output_type": "execute_result"
    }
   ],
   "source": [
    "classifier = SVC\n",
    "params = {'C':10,'kernel':'rbf'}\n",
    "modell = classifier(**params)\n",
    "modell.fit(tr_vecs[0],tr_labels)"
   ]
  },
  {
   "cell_type": "code",
   "execution_count": 34,
   "metadata": {},
   "outputs": [],
   "source": [
    "def confusion_matrix(cm, title='Confusion matrix', cmap=plt.cm.Blues, labels=[]):\n",
    "    plt.imshow(cm, interpolation='nearest', cmap=cmap)\n",
    "    plt.title(title)\n",
    "    plt.colorbar()\n",
    "    tick_marks = np.arange(len(labels))\n",
    "    plt.xticks(tick_marks, labels, rotation=45)\n",
    "    plt.yticks(tick_marks, labels)\n",
    "    plt.tight_layout()\n",
    "    plt.ylabel('True label')\n",
    "    plt.xlabel('Predicted label')\n",
    "    plt.show() "
   ]
  },
  {
   "cell_type": "code",
   "execution_count": 35,
   "metadata": {},
   "outputs": [
    {
     "data": {
      "image/png": "[encoded data removed]",
      "text/plain": [
       "<Figure size 432x288 with 2 Axes>"
      ]
     },
     "metadata": {
      "needs_background": "light"
     },
     "output_type": "display_data"
    }
   ],
   "source": [
    "test_data = np.array(tst_vecs[0])\n",
    "test_labels = np.array(tst_labels).reshape(-1,1)\n",
    "predicted_tst_labels = modell.predict(test_data)\n",
    "conf = np.zeros([2,2])\n",
    "confnorm = np.zeros([2,2])\n",
    "for i in range(0,test_data.shape[0]):\n",
    "    j = test_labels[i,:]\n",
    "    k = predicted_tst_labels[i]\n",
    "    conf[j,k] = conf[j,k] + 1\n",
    "for i in range(0,2):\n",
    "    confnorm[i,:] = conf[i,:] / np.sum(conf[i,:])\n",
    "confusion_matrix(confnorm, labels=[i for i in range(2)])\n",
    "acc = modell.score(test_data,test_labels)"
   ]
  },
  {
   "cell_type": "code",
   "execution_count": 36,
   "metadata": {},
   "outputs": [
    {
     "name": "stdout",
     "output_type": "stream",
     "text": [
      "0.6359516616314199\n"
     ]
    }
   ],
   "source": [
    "print(acc)"
   ]
  },
  {
   "cell_type": "code",
   "execution_count": null,
   "metadata": {},
   "outputs": [],
   "source": []
  },
  {
   "cell_type": "code",
   "execution_count": null,
   "metadata": {},
   "outputs": [],
   "source": []
  }
 ],
 "metadata": {
  "kernelspec": {
   "display_name": "Python 3",
   "language": "python",
   "name": "python3"
  },
  "language_info": {
   "codemirror_mode": {
    "name": "ipython",
    "version": 3
   },
   "file_extension": ".py",
   "mimetype": "text/x-python",
   "name": "python",
   "nbconvert_exporter": "python",
   "pygments_lexer": "ipython3",
   "version": "3.7.4"
  }
 },
 "nbformat": 4,
 "nbformat_minor": 2
}
