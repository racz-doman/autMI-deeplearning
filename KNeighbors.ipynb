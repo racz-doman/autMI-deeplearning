{
 "cells": [
  {
   "cell_type": "markdown",
   "metadata": {},
   "source": [
    "## Importing libraries"
   ]
  },
  {
   "cell_type": "code",
   "execution_count": 13,
   "metadata": {},
   "outputs": [],
   "source": [
    "from spacy.lang.en import English\n",
    "import csv as csv\n",
    "from spacy.lang.en.stop_words import STOP_WORDS\n",
    "from sklearn.model_selection import train_test_split as split\n",
    "from tqdm import tqdm\n",
    "from sklearn.feature_extraction.text import TfidfVectorizer\n",
    "from sklearn.neighbors import KNeighborsClassifier\n",
    "import matplotlib.pyplot as plt\n",
    "import numpy as np"
   ]
  },
  {
   "cell_type": "markdown",
   "metadata": {},
   "source": [
    "## Reading and splitting"
   ]
  },
  {
   "cell_type": "code",
   "execution_count": 14,
   "metadata": {},
   "outputs": [],
   "source": [
    "nlp = English()\n",
    "all_labels = []\n",
    "all_tweets = []"
   ]
  },
  {
   "cell_type": "code",
   "execution_count": 15,
   "metadata": {},
   "outputs": [
    {
     "name": "stderr",
     "output_type": "stream",
     "text": [
      "Reading data: 13241it [00:00, 250499.67it/s]\n"
     ]
    }
   ],
   "source": [
    "with open(\"offenseval-training-v1.tsv\", encoding='utf8') as mf:\n",
    "    reader = csv.reader(mf, delimiter=\"\\t\")\n",
    "    for id,tweet,a,b,c in tqdm(reader,'Reading data'):\n",
    "        if id == \"id\":\n",
    "            continue\n",
    "        all_tweets.append(tweet.lower())\n",
    "        if a == \"OFF\":\n",
    "            all_labels.append(1)\n",
    "        else:\n",
    "            all_labels.append(0)"
   ]
  },
  {
   "cell_type": "code",
   "execution_count": 16,
   "metadata": {},
   "outputs": [
    {
     "name": "stdout",
     "output_type": "stream",
     "text": [
      "@user she should ask a few native americans what their take on this is.\n"
     ]
    }
   ],
   "source": [
    "print(all_tweets[0])\n",
    "#print(all_labels[3])"
   ]
  },
  {
   "cell_type": "code",
   "execution_count": 17,
   "metadata": {},
   "outputs": [],
   "source": [
    "tr_tweets,tst_tweets,tr_labels,tst_labels = split(all_tweets,all_labels,test_size=0.3)"
   ]
  },
  {
   "cell_type": "code",
   "execution_count": null,
   "metadata": {},
   "outputs": [],
   "source": []
  },
  {
   "cell_type": "markdown",
   "metadata": {},
   "source": [
    "### Preprocessing"
   ]
  },
  {
   "cell_type": "code",
   "execution_count": 18,
   "metadata": {},
   "outputs": [],
   "source": [
    "prep_tr_tweets = []\n",
    "prep_tst_tweets = []\n",
    "tr_vecs = []\n",
    "tst_vecs = []\n",
    "other_stopwords = ['.',',',':','#','-','\"','!','?','*','&','@','˝',')','(',';','´',' ','/','@user']"
   ]
  },
  {
   "cell_type": "code",
   "execution_count": 19,
   "metadata": {},
   "outputs": [
    {
     "name": "stderr",
     "output_type": "stream",
     "text": [
      "Token and Lemmatization: 9268it [00:01, 6848.34it/s]\n",
      "Token and Lemmatization: 3972it [00:00, 8393.48it/s]\n"
     ]
    }
   ],
   "source": [
    "for i, tweet in tqdm(enumerate(tr_tweets), 'Token and Lemmatization'):\n",
    "    temp = nlp(tweet)\n",
    "    words = []\n",
    "    for j, token in enumerate(temp):\n",
    "        if not token.is_stop and token.text not in other_stopwords:\n",
    "            words.append((token.lemma_))\n",
    "    prep_tr_tweets.append(words)\n",
    "for i, tweet in tqdm(enumerate(tst_tweets), 'Token and Lemmatization'):\n",
    "    temp = nlp(tweet)\n",
    "    asd = []\n",
    "    for j, token in enumerate(temp):\n",
    "        if not token.is_stop and token.text not in other_stopwords:\n",
    "            asd.append((token.lemma_))\n",
    "    prep_tst_tweets.append(asd)"
   ]
  },
  {
   "cell_type": "code",
   "execution_count": 20,
   "metadata": {},
   "outputs": [
    {
     "name": "stdout",
     "output_type": "stream",
     "text": [
      "['brainless', 'dems', 'want', 'believe', 'majority', 'liberal', 'like', 'leader', 'corrupt', 'obama', 'crookedhillary', 'real', 'bad', 'loser', 'maga', 'trump']\n"
     ]
    }
   ],
   "source": [
    "print(prep_tr_tweets[10])"
   ]
  },
  {
   "cell_type": "markdown",
   "metadata": {},
   "source": [
    "## Vectorizing"
   ]
  },
  {
   "cell_type": "code",
   "execution_count": 21,
   "metadata": {
    "scrolled": true
   },
   "outputs": [],
   "source": [
    "vectorizer = TfidfVectorizer()\n",
    "data =[' '.join(tweet) for tweet in prep_tr_tweets]\n",
    "vectorizer = vectorizer.fit(data)\n",
    "vectors = vectorizer.transform(data).toarray()\n",
    "tr_vecs.append(vectors)"
   ]
  },
  {
   "cell_type": "code",
   "execution_count": 22,
   "metadata": {},
   "outputs": [],
   "source": [
    "data2 =[' '.join(tweet) for tweet in prep_tst_tweets]\n",
    "vectors = vectorizer.transform(data2).toarray()\n",
    "tst_vecs.append(vectors)"
   ]
  },
  {
   "cell_type": "code",
   "execution_count": 23,
   "metadata": {},
   "outputs": [
    {
     "data": {
      "text/plain": [
       "array([[0., 0., 0., ..., 0., 0., 0.],\n",
       "       [0., 0., 0., ..., 0., 0., 0.],\n",
       "       [0., 0., 0., ..., 0., 0., 0.],\n",
       "       ...,\n",
       "       [0., 0., 0., ..., 0., 0., 0.],\n",
       "       [0., 0., 0., ..., 0., 0., 0.],\n",
       "       [0., 0., 0., ..., 0., 0., 0.]])"
      ]
     },
     "execution_count": 23,
     "metadata": {},
     "output_type": "execute_result"
    }
   ],
   "source": [
    "tst_vecs[0]"
   ]
  },
  {
   "cell_type": "markdown",
   "metadata": {},
   "source": [
    "## Classifiers"
   ]
  },
  {
   "cell_type": "code",
   "execution_count": 24,
   "metadata": {},
   "outputs": [
    {
     "data": {
      "text/plain": [
       "KNeighborsClassifier(algorithm='auto', leaf_size=30, metric='minkowski',\n",
       "                     metric_params=None, n_jobs=None, n_neighbors=5, p=2,\n",
       "                     weights='uniform')"
      ]
     },
     "execution_count": 24,
     "metadata": {},
     "output_type": "execute_result"
    }
   ],
   "source": [
    "classifier = KNeighborsClassifier\n",
    "params = {'n_neighbors':5}\n",
    "model = classifier(**params)\n",
    "model.fit(tr_vecs[0],tr_labels)"
   ]
  },
  {
   "cell_type": "code",
   "execution_count": 25,
   "metadata": {},
   "outputs": [],
   "source": [
    "def confusion_matrix(cm, title='Confusion matrix', cmap=plt.cm.Blues, labels=[]):\n",
    "    plt.imshow(cm, interpolation='nearest', cmap=cmap)\n",
    "    plt.title(title)\n",
    "    plt.colorbar()\n",
    "    tick_marks = np.arange(len(labels))\n",
    "    plt.xticks(tick_marks, labels, rotation=45)\n",
    "    plt.yticks(tick_marks, labels)\n",
    "    plt.tight_layout()\n",
    "    plt.ylabel('True label')\n",
    "    plt.xlabel('Predicted label')\n",
    "    plt.show() "
   ]
  },
  {
   "cell_type": "code",
   "execution_count": 27,
   "metadata": {},
   "outputs": [
    {
     "name": "stderr",
     "output_type": "stream",
     "text": [
      "range1: 100%|██████████████████████████████████████████████████████████████████| 3972/3972 [00:00<00:00, 684995.50it/s]\n",
      "range2: 100%|████████████████████████████████████████████████████████████████████████████████████| 2/2 [00:00<?, ?it/s]\n"
     ]
    },
    {
     "data": {
      "image/png": "[encoded data removed]",
      "text/plain": [
       "<Figure size 432x288 with 2 Axes>"
      ]
     },
     "metadata": {
      "needs_background": "light"
     },
     "output_type": "display_data"
    }
   ],
   "source": [
    "test_data = np.array(tst_vecs[0])\n",
    "test_labels = np.array(tst_labels).reshape(-1,1)\n",
    "predicted_tst_labels = model.predict(test_data)\n",
    "conf = np.zeros([2,2])\n",
    "confnorm = np.zeros([2,2])\n",
    "for i in range(0,test_data.shape[0]):\n",
    "    j = test_labels[i,:]\n",
    "    k = predicted_tst_labels[i]\n",
    "    conf[j,k] = conf[j,k] + 1\n",
    "for i in range(0,2):\n",
    "    confnorm[i,:] = conf[i,:] / np.sum(conf[i,:])\n",
    "confusion_matrix(confnorm, labels=[i for i in range(2)])\n",
    "acc = model.score(test_data,test_labels)"
   ]
  },
  {
   "cell_type": "code",
   "execution_count": 28,
   "metadata": {},
   "outputs": [
    {
     "name": "stdout",
     "output_type": "stream",
     "text": [
      "0.6790030211480362\n"
     ]
    }
   ],
   "source": [
    "print(acc)"
   ]
  },
  {
   "cell_type": "code",
   "execution_count": null,
   "metadata": {},
   "outputs": [],
   "source": []
  },
  {
   "cell_type": "code",
   "execution_count": null,
   "metadata": {},
   "outputs": [],
   "source": []
  }
 ],
 "metadata": {
  "kernelspec": {
   "display_name": "Python 3",
   "language": "python",
   "name": "python3"
  },
  "language_info": {
   "codemirror_mode": {
    "name": "ipython",
    "version": 3
   },
   "file_extension": ".py",
   "mimetype": "text/x-python",
   "name": "python",
   "nbconvert_exporter": "python",
   "pygments_lexer": "ipython3",
   "version": "3.7.4"
  }
 },
 "nbformat": 4,
 "nbformat_minor": 2
}
